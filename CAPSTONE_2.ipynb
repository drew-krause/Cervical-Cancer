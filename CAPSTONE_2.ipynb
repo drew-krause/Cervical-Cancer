{
  "nbformat": 4,
  "nbformat_minor": 0,
  "metadata": {
    "colab": {
      "name": "CAPSTONE 2.ipynb",
      "provenance": []
    },
    "kernelspec": {
      "name": "python3",
      "display_name": "Python 3"
    },
    "language_info": {
      "name": "python"
    }
  },
  "cells": [
    {
      "cell_type": "code",
      "metadata": {
        "id": "vc8mQAb79_ak"
      },
      "source": [
        "#Creating Coding Environment\n",
        "import pandas as pd \n",
        "import numpy as np\n",
        "from matplotlib import pyplot as plt\n",
        "from scipy import stats\n",
        "from google.colab import files\n",
        "import seaborn as sns\n",
        "import io\n",
        "from sklearn.model_selection import train_test_split\n",
        "from sklearn.preprocessing import StandardScaler\n",
        "from sklearn.decomposition import PCA\n",
        "from sklearn.metrics import accuracy_score, confusion_matrix, classification_report\n",
        "from sklearn.preprocessing import normalize\n",
        "from scipy.stats import kruskal\n",
        "from sklearn.ensemble import RandomForestClassifier\n",
        "from sklearn.model_selection import train_test_split\n",
        "from sklearn.model_selection import cross_val_score, cross_validate\n",
        "from sklearn import  metrics\n",
        "from sklearn.ensemble import GradientBoostingClassifier\n",
        "from sklearn.dummy import  DummyClassifier\n",
        "from sklearn.model_selection import GridSearchCV\n",
        "from imblearn.over_sampling import SMOTE\n",
        "from collections import Counter\n",
        "from sklearn.preprocessing import StandardScaler\n",
        "from sklearn.decomposition import PCA\n",
        "from sklearn import  preprocessing\n"
      ],
      "execution_count": null,
      "outputs": []
    },
    {
      "cell_type": "markdown",
      "metadata": {
        "id": "YHbJo1wTRCMk"
      },
      "source": [
        "#Background:\n",
        "\n",
        "Cervic Cancer kills over 300,000 women each year around the world. With eary detection survival rates increase expodentially. Thanks to test such as 'pap smears' and  Schillers, cervic cancer deaths have been decreaseing.\n",
        "\n",
        "However even with pap smears and Schillers test some cases still go undiagonosed, and a false positive result on a pap smear causes unnessacry procedures, expenses, and worry to the patient.  Pap smears lead to a 4 women in 1,000 going undiaganosed and 95 in 1,000 false positives(Grimes et al, 2020)."
      ]
    },
    {
      "cell_type": "markdown",
      "metadata": {
        "id": "qtdLwxA9-DNF"
      },
      "source": [
        "#GOAL:\n",
        "Use pap smear and shiller test results along with medical history to limit false positives and undiagonesd cases. \n"
      ]
    },
    {
      "cell_type": "markdown",
      "metadata": {
        "id": "dExo9JWuOZGp"
      },
      "source": [
        "# Data \n",
        "The data was obtained from kaggle: [LINK](https://www.kaggle.com/loveall/cervical-cancer-risk-classification)\n",
        "\n",
        "There are 36 columns with 858 rows of data. While at first look no NaN data is present, there seems to be some odd values in the dataframe. After taking a look at the excell file, whoever entered the data used ?s to fill in missing values. These '?' were converted to nan and handeled approperately."
      ]
    },
    {
      "cell_type": "code",
      "metadata": {
        "colab": {
          "resources": {
            "http://localhost:8080/nbextensions/google.colab/files.js": {
              "data": "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",
              "ok": true,
              "headers": [
                [
                  "content-type",
                  "application/javascript"
                ]
              ],
              "status": 200,
              "status_text": ""
            }
          },
          "base_uri": "https://localhost:8080/",
          "height": 73
        },
        "id": "lb5BfFjJ-PMo",
        "outputId": "f90e8229-1e78-4f56-c7d5-62ff0745a71f"
      },
      "source": [
        "#Uploading CSV file with Data \n",
        "upload_1 = files.upload()"
      ],
      "execution_count": null,
      "outputs": [
        {
          "output_type": "display_data",
          "data": {
            "text/html": [
              "\n",
              "     <input type=\"file\" id=\"files-c6d2b546-1c1d-4634-aadd-a16733bf12ab\" name=\"files[]\" multiple disabled\n",
              "        style=\"border:none\" />\n",
              "     <output id=\"result-c6d2b546-1c1d-4634-aadd-a16733bf12ab\">\n",
              "      Upload widget is only available when the cell has been executed in the\n",
              "      current browser session. Please rerun this cell to enable.\n",
              "      </output>\n",
              "      <script src=\"/nbextensions/google.colab/files.js\"></script> "
            ],
            "text/plain": [
              "<IPython.core.display.HTML object>"
            ]
          },
          "metadata": {
            "tags": []
          }
        },
        {
          "output_type": "stream",
          "text": [
            "Saving risk_factors_cervical_cancer.csv to risk_factors_cervical_cancer (1).csv\n"
          ],
          "name": "stdout"
        }
      ]
    },
    {
      "cell_type": "code",
      "metadata": {
        "id": "-OOS3svs-wJo"
      },
      "source": [
        "#Creating data frame \n",
        "risk_df = pd.read_csv(io.BytesIO(upload_1['risk_factors_cervical_cancer.csv']))"
      ],
      "execution_count": null,
      "outputs": []
    },
    {
      "cell_type": "code",
      "metadata": {
        "colab": {
          "base_uri": "https://localhost:8080/",
          "height": 35
        },
        "id": "HzfLDbh2_IjX",
        "outputId": "5192efd3-4c8f-4d64-cfe4-84d89f135fb8"
      },
      "source": [
        "risk_df.shape\n",
        "'''36 columns of 858 people'''\n"
      ],
      "execution_count": null,
      "outputs": [
        {
          "output_type": "execute_result",
          "data": {
            "application/vnd.google.colaboratory.intrinsic+json": {
              "type": "string"
            },
            "text/plain": [
              "'36 columns of 858 people'"
            ]
          },
          "metadata": {
            "tags": []
          },
          "execution_count": 65
        }
      ]
    },
    {
      "cell_type": "code",
      "metadata": {
        "colab": {
          "base_uri": "https://localhost:8080/"
        },
        "id": "u4kUoFmXGBZc",
        "outputId": "066a6591-0d5d-4d87-e9d6-6f3f2fdccaff"
      },
      "source": [
        "risk_df.info()"
      ],
      "execution_count": null,
      "outputs": [
        {
          "output_type": "stream",
          "text": [
            "<class 'pandas.core.frame.DataFrame'>\n",
            "RangeIndex: 858 entries, 0 to 857\n",
            "Data columns (total 36 columns):\n",
            " #   Column                              Non-Null Count  Dtype \n",
            "---  ------                              --------------  ----- \n",
            " 0   Age                                 858 non-null    int64 \n",
            " 1   Number of sexual partners           858 non-null    object\n",
            " 2   First sexual intercourse            858 non-null    object\n",
            " 3   Num of pregnancies                  858 non-null    object\n",
            " 4   Smokes                              858 non-null    object\n",
            " 5   Smokes (years)                      858 non-null    object\n",
            " 6   Smokes (packs/year)                 858 non-null    object\n",
            " 7   Hormonal Contraceptives             858 non-null    object\n",
            " 8   Hormonal Contraceptives (years)     858 non-null    object\n",
            " 9   IUD                                 858 non-null    object\n",
            " 10  IUD (years)                         858 non-null    object\n",
            " 11  STDs                                858 non-null    object\n",
            " 12  STDs (number)                       858 non-null    object\n",
            " 13  STDs:condylomatosis                 858 non-null    object\n",
            " 14  STDs:cervical condylomatosis        858 non-null    object\n",
            " 15  STDs:vaginal condylomatosis         858 non-null    object\n",
            " 16  STDs:vulvo-perineal condylomatosis  858 non-null    object\n",
            " 17  STDs:syphilis                       858 non-null    object\n",
            " 18  STDs:pelvic inflammatory disease    858 non-null    object\n",
            " 19  STDs:genital herpes                 858 non-null    object\n",
            " 20  STDs:molluscum contagiosum          858 non-null    object\n",
            " 21  STDs:AIDS                           858 non-null    object\n",
            " 22  STDs:HIV                            858 non-null    object\n",
            " 23  STDs:Hepatitis B                    858 non-null    object\n",
            " 24  STDs:HPV                            858 non-null    object\n",
            " 25  STDs: Number of diagnosis           858 non-null    int64 \n",
            " 26  STDs: Time since first diagnosis    858 non-null    object\n",
            " 27  STDs: Time since last diagnosis     858 non-null    object\n",
            " 28  Dx:Cancer                           858 non-null    int64 \n",
            " 29  Dx:CIN                              858 non-null    int64 \n",
            " 30  Dx:HPV                              858 non-null    int64 \n",
            " 31  Dx                                  858 non-null    int64 \n",
            " 32  Hinselmann                          858 non-null    int64 \n",
            " 33  Schiller                            858 non-null    int64 \n",
            " 34  Citology                            858 non-null    int64 \n",
            " 35  Biopsy                              858 non-null    int64 \n",
            "dtypes: int64(10), object(26)\n",
            "memory usage: 241.4+ KB\n"
          ],
          "name": "stdout"
        }
      ]
    },
    {
      "cell_type": "code",
      "metadata": {
        "colab": {
          "base_uri": "https://localhost:8080/",
          "height": 35
        },
        "id": "EVE3Z4zo_Qje",
        "outputId": "8a674988-7a40-476b-943e-9346c0ffa234"
      },
      "source": [
        "risk_df.isna().sum()\n",
        "''' While there are no values stored as null, from glancing over CSV i know \n",
        "there are at least a few values with ? s stored'''"
      ],
      "execution_count": null,
      "outputs": [
        {
          "output_type": "execute_result",
          "data": {
            "application/vnd.google.colaboratory.intrinsic+json": {
              "type": "string"
            },
            "text/plain": [
              "' While there are no values stored as null, from glancing over CSV i know \\nthere are at least a few values with ? s stored'"
            ]
          },
          "metadata": {
            "tags": []
          },
          "execution_count": 6
        }
      ]
    },
    {
      "cell_type": "code",
      "metadata": {
        "colab": {
          "base_uri": "https://localhost:8080/",
          "height": 493
        },
        "id": "nupmeZ_AAB7L",
        "outputId": "868139e3-b504-4f83-ed04-008eefa857ea"
      },
      "source": [
        "risk_df.where(risk_df=='?')\n",
        "#''' Converting ?s to  Nan '''\n"
      ],
      "execution_count": null,
      "outputs": [
        {
          "output_type": "execute_result",
          "data": {
            "text/html": [
              "<div>\n",
              "<style scoped>\n",
              "    .dataframe tbody tr th:only-of-type {\n",
              "        vertical-align: middle;\n",
              "    }\n",
              "\n",
              "    .dataframe tbody tr th {\n",
              "        vertical-align: top;\n",
              "    }\n",
              "\n",
              "    .dataframe thead th {\n",
              "        text-align: right;\n",
              "    }\n",
              "</style>\n",
              "<table border=\"1\" class=\"dataframe\">\n",
              "  <thead>\n",
              "    <tr style=\"text-align: right;\">\n",
              "      <th></th>\n",
              "      <th>Age</th>\n",
              "      <th>Number of sexual partners</th>\n",
              "      <th>First sexual intercourse</th>\n",
              "      <th>Num of pregnancies</th>\n",
              "      <th>Smokes</th>\n",
              "      <th>Smokes (years)</th>\n",
              "      <th>Smokes (packs/year)</th>\n",
              "      <th>Hormonal Contraceptives</th>\n",
              "      <th>Hormonal Contraceptives (years)</th>\n",
              "      <th>IUD</th>\n",
              "      <th>IUD (years)</th>\n",
              "      <th>STDs</th>\n",
              "      <th>STDs (number)</th>\n",
              "      <th>STDs:condylomatosis</th>\n",
              "      <th>STDs:cervical condylomatosis</th>\n",
              "      <th>STDs:vaginal condylomatosis</th>\n",
              "      <th>STDs:vulvo-perineal condylomatosis</th>\n",
              "      <th>STDs:syphilis</th>\n",
              "      <th>STDs:pelvic inflammatory disease</th>\n",
              "      <th>STDs:genital herpes</th>\n",
              "      <th>STDs:molluscum contagiosum</th>\n",
              "      <th>STDs:AIDS</th>\n",
              "      <th>STDs:HIV</th>\n",
              "      <th>STDs:Hepatitis B</th>\n",
              "      <th>STDs:HPV</th>\n",
              "      <th>STDs: Number of diagnosis</th>\n",
              "      <th>STDs: Time since first diagnosis</th>\n",
              "      <th>STDs: Time since last diagnosis</th>\n",
              "      <th>Dx:Cancer</th>\n",
              "      <th>Dx:CIN</th>\n",
              "      <th>Dx:HPV</th>\n",
              "      <th>Dx</th>\n",
              "      <th>Hinselmann</th>\n",
              "      <th>Schiller</th>\n",
              "      <th>Citology</th>\n",
              "      <th>Biopsy</th>\n",
              "    </tr>\n",
              "  </thead>\n",
              "  <tbody>\n",
              "    <tr>\n",
              "      <th>0</th>\n",
              "      <td>NaN</td>\n",
              "      <td>NaN</td>\n",
              "      <td>NaN</td>\n",
              "      <td>NaN</td>\n",
              "      <td>NaN</td>\n",
              "      <td>NaN</td>\n",
              "      <td>NaN</td>\n",
              "      <td>NaN</td>\n",
              "      <td>NaN</td>\n",
              "      <td>NaN</td>\n",
              "      <td>NaN</td>\n",
              "      <td>NaN</td>\n",
              "      <td>NaN</td>\n",
              "      <td>NaN</td>\n",
              "      <td>NaN</td>\n",
              "      <td>NaN</td>\n",
              "      <td>NaN</td>\n",
              "      <td>NaN</td>\n",
              "      <td>NaN</td>\n",
              "      <td>NaN</td>\n",
              "      <td>NaN</td>\n",
              "      <td>NaN</td>\n",
              "      <td>NaN</td>\n",
              "      <td>NaN</td>\n",
              "      <td>NaN</td>\n",
              "      <td>NaN</td>\n",
              "      <td>?</td>\n",
              "      <td>?</td>\n",
              "      <td>NaN</td>\n",
              "      <td>NaN</td>\n",
              "      <td>NaN</td>\n",
              "      <td>NaN</td>\n",
              "      <td>NaN</td>\n",
              "      <td>NaN</td>\n",
              "      <td>NaN</td>\n",
              "      <td>NaN</td>\n",
              "    </tr>\n",
              "    <tr>\n",
              "      <th>1</th>\n",
              "      <td>NaN</td>\n",
              "      <td>NaN</td>\n",
              "      <td>NaN</td>\n",
              "      <td>NaN</td>\n",
              "      <td>NaN</td>\n",
              "      <td>NaN</td>\n",
              "      <td>NaN</td>\n",
              "      <td>NaN</td>\n",
              "      <td>NaN</td>\n",
              "      <td>NaN</td>\n",
              "      <td>NaN</td>\n",
              "      <td>NaN</td>\n",
              "      <td>NaN</td>\n",
              "      <td>NaN</td>\n",
              "      <td>NaN</td>\n",
              "      <td>NaN</td>\n",
              "      <td>NaN</td>\n",
              "      <td>NaN</td>\n",
              "      <td>NaN</td>\n",
              "      <td>NaN</td>\n",
              "      <td>NaN</td>\n",
              "      <td>NaN</td>\n",
              "      <td>NaN</td>\n",
              "      <td>NaN</td>\n",
              "      <td>NaN</td>\n",
              "      <td>NaN</td>\n",
              "      <td>?</td>\n",
              "      <td>?</td>\n",
              "      <td>NaN</td>\n",
              "      <td>NaN</td>\n",
              "      <td>NaN</td>\n",
              "      <td>NaN</td>\n",
              "      <td>NaN</td>\n",
              "      <td>NaN</td>\n",
              "      <td>NaN</td>\n",
              "      <td>NaN</td>\n",
              "    </tr>\n",
              "    <tr>\n",
              "      <th>2</th>\n",
              "      <td>NaN</td>\n",
              "      <td>NaN</td>\n",
              "      <td>?</td>\n",
              "      <td>NaN</td>\n",
              "      <td>NaN</td>\n",
              "      <td>NaN</td>\n",
              "      <td>NaN</td>\n",
              "      <td>NaN</td>\n",
              "      <td>NaN</td>\n",
              "      <td>NaN</td>\n",
              "      <td>NaN</td>\n",
              "      <td>NaN</td>\n",
              "      <td>NaN</td>\n",
              "      <td>NaN</td>\n",
              "      <td>NaN</td>\n",
              "      <td>NaN</td>\n",
              "      <td>NaN</td>\n",
              "      <td>NaN</td>\n",
              "      <td>NaN</td>\n",
              "      <td>NaN</td>\n",
              "      <td>NaN</td>\n",
              "      <td>NaN</td>\n",
              "      <td>NaN</td>\n",
              "      <td>NaN</td>\n",
              "      <td>NaN</td>\n",
              "      <td>NaN</td>\n",
              "      <td>?</td>\n",
              "      <td>?</td>\n",
              "      <td>NaN</td>\n",
              "      <td>NaN</td>\n",
              "      <td>NaN</td>\n",
              "      <td>NaN</td>\n",
              "      <td>NaN</td>\n",
              "      <td>NaN</td>\n",
              "      <td>NaN</td>\n",
              "      <td>NaN</td>\n",
              "    </tr>\n",
              "    <tr>\n",
              "      <th>3</th>\n",
              "      <td>NaN</td>\n",
              "      <td>NaN</td>\n",
              "      <td>NaN</td>\n",
              "      <td>NaN</td>\n",
              "      <td>NaN</td>\n",
              "      <td>NaN</td>\n",
              "      <td>NaN</td>\n",
              "      <td>NaN</td>\n",
              "      <td>NaN</td>\n",
              "      <td>NaN</td>\n",
              "      <td>NaN</td>\n",
              "      <td>NaN</td>\n",
              "      <td>NaN</td>\n",
              "      <td>NaN</td>\n",
              "      <td>NaN</td>\n",
              "      <td>NaN</td>\n",
              "      <td>NaN</td>\n",
              "      <td>NaN</td>\n",
              "      <td>NaN</td>\n",
              "      <td>NaN</td>\n",
              "      <td>NaN</td>\n",
              "      <td>NaN</td>\n",
              "      <td>NaN</td>\n",
              "      <td>NaN</td>\n",
              "      <td>NaN</td>\n",
              "      <td>NaN</td>\n",
              "      <td>?</td>\n",
              "      <td>?</td>\n",
              "      <td>NaN</td>\n",
              "      <td>NaN</td>\n",
              "      <td>NaN</td>\n",
              "      <td>NaN</td>\n",
              "      <td>NaN</td>\n",
              "      <td>NaN</td>\n",
              "      <td>NaN</td>\n",
              "      <td>NaN</td>\n",
              "    </tr>\n",
              "    <tr>\n",
              "      <th>4</th>\n",
              "      <td>NaN</td>\n",
              "      <td>NaN</td>\n",
              "      <td>NaN</td>\n",
              "      <td>NaN</td>\n",
              "      <td>NaN</td>\n",
              "      <td>NaN</td>\n",
              "      <td>NaN</td>\n",
              "      <td>NaN</td>\n",
              "      <td>NaN</td>\n",
              "      <td>NaN</td>\n",
              "      <td>NaN</td>\n",
              "      <td>NaN</td>\n",
              "      <td>NaN</td>\n",
              "      <td>NaN</td>\n",
              "      <td>NaN</td>\n",
              "      <td>NaN</td>\n",
              "      <td>NaN</td>\n",
              "      <td>NaN</td>\n",
              "      <td>NaN</td>\n",
              "      <td>NaN</td>\n",
              "      <td>NaN</td>\n",
              "      <td>NaN</td>\n",
              "      <td>NaN</td>\n",
              "      <td>NaN</td>\n",
              "      <td>NaN</td>\n",
              "      <td>NaN</td>\n",
              "      <td>?</td>\n",
              "      <td>?</td>\n",
              "      <td>NaN</td>\n",
              "      <td>NaN</td>\n",
              "      <td>NaN</td>\n",
              "      <td>NaN</td>\n",
              "      <td>NaN</td>\n",
              "      <td>NaN</td>\n",
              "      <td>NaN</td>\n",
              "      <td>NaN</td>\n",
              "    </tr>\n",
              "    <tr>\n",
              "      <th>...</th>\n",
              "      <td>...</td>\n",
              "      <td>...</td>\n",
              "      <td>...</td>\n",
              "      <td>...</td>\n",
              "      <td>...</td>\n",
              "      <td>...</td>\n",
              "      <td>...</td>\n",
              "      <td>...</td>\n",
              "      <td>...</td>\n",
              "      <td>...</td>\n",
              "      <td>...</td>\n",
              "      <td>...</td>\n",
              "      <td>...</td>\n",
              "      <td>...</td>\n",
              "      <td>...</td>\n",
              "      <td>...</td>\n",
              "      <td>...</td>\n",
              "      <td>...</td>\n",
              "      <td>...</td>\n",
              "      <td>...</td>\n",
              "      <td>...</td>\n",
              "      <td>...</td>\n",
              "      <td>...</td>\n",
              "      <td>...</td>\n",
              "      <td>...</td>\n",
              "      <td>...</td>\n",
              "      <td>...</td>\n",
              "      <td>...</td>\n",
              "      <td>...</td>\n",
              "      <td>...</td>\n",
              "      <td>...</td>\n",
              "      <td>...</td>\n",
              "      <td>...</td>\n",
              "      <td>...</td>\n",
              "      <td>...</td>\n",
              "      <td>...</td>\n",
              "    </tr>\n",
              "    <tr>\n",
              "      <th>853</th>\n",
              "      <td>NaN</td>\n",
              "      <td>NaN</td>\n",
              "      <td>NaN</td>\n",
              "      <td>NaN</td>\n",
              "      <td>NaN</td>\n",
              "      <td>NaN</td>\n",
              "      <td>NaN</td>\n",
              "      <td>NaN</td>\n",
              "      <td>NaN</td>\n",
              "      <td>NaN</td>\n",
              "      <td>NaN</td>\n",
              "      <td>NaN</td>\n",
              "      <td>NaN</td>\n",
              "      <td>NaN</td>\n",
              "      <td>NaN</td>\n",
              "      <td>NaN</td>\n",
              "      <td>NaN</td>\n",
              "      <td>NaN</td>\n",
              "      <td>NaN</td>\n",
              "      <td>NaN</td>\n",
              "      <td>NaN</td>\n",
              "      <td>NaN</td>\n",
              "      <td>NaN</td>\n",
              "      <td>NaN</td>\n",
              "      <td>NaN</td>\n",
              "      <td>NaN</td>\n",
              "      <td>?</td>\n",
              "      <td>?</td>\n",
              "      <td>NaN</td>\n",
              "      <td>NaN</td>\n",
              "      <td>NaN</td>\n",
              "      <td>NaN</td>\n",
              "      <td>NaN</td>\n",
              "      <td>NaN</td>\n",
              "      <td>NaN</td>\n",
              "      <td>NaN</td>\n",
              "    </tr>\n",
              "    <tr>\n",
              "      <th>854</th>\n",
              "      <td>NaN</td>\n",
              "      <td>NaN</td>\n",
              "      <td>NaN</td>\n",
              "      <td>NaN</td>\n",
              "      <td>NaN</td>\n",
              "      <td>NaN</td>\n",
              "      <td>NaN</td>\n",
              "      <td>NaN</td>\n",
              "      <td>NaN</td>\n",
              "      <td>NaN</td>\n",
              "      <td>NaN</td>\n",
              "      <td>NaN</td>\n",
              "      <td>NaN</td>\n",
              "      <td>NaN</td>\n",
              "      <td>NaN</td>\n",
              "      <td>NaN</td>\n",
              "      <td>NaN</td>\n",
              "      <td>NaN</td>\n",
              "      <td>NaN</td>\n",
              "      <td>NaN</td>\n",
              "      <td>NaN</td>\n",
              "      <td>NaN</td>\n",
              "      <td>NaN</td>\n",
              "      <td>NaN</td>\n",
              "      <td>NaN</td>\n",
              "      <td>NaN</td>\n",
              "      <td>?</td>\n",
              "      <td>?</td>\n",
              "      <td>NaN</td>\n",
              "      <td>NaN</td>\n",
              "      <td>NaN</td>\n",
              "      <td>NaN</td>\n",
              "      <td>NaN</td>\n",
              "      <td>NaN</td>\n",
              "      <td>NaN</td>\n",
              "      <td>NaN</td>\n",
              "    </tr>\n",
              "    <tr>\n",
              "      <th>855</th>\n",
              "      <td>NaN</td>\n",
              "      <td>NaN</td>\n",
              "      <td>NaN</td>\n",
              "      <td>NaN</td>\n",
              "      <td>NaN</td>\n",
              "      <td>NaN</td>\n",
              "      <td>NaN</td>\n",
              "      <td>NaN</td>\n",
              "      <td>NaN</td>\n",
              "      <td>NaN</td>\n",
              "      <td>NaN</td>\n",
              "      <td>NaN</td>\n",
              "      <td>NaN</td>\n",
              "      <td>NaN</td>\n",
              "      <td>NaN</td>\n",
              "      <td>NaN</td>\n",
              "      <td>NaN</td>\n",
              "      <td>NaN</td>\n",
              "      <td>NaN</td>\n",
              "      <td>NaN</td>\n",
              "      <td>NaN</td>\n",
              "      <td>NaN</td>\n",
              "      <td>NaN</td>\n",
              "      <td>NaN</td>\n",
              "      <td>NaN</td>\n",
              "      <td>NaN</td>\n",
              "      <td>?</td>\n",
              "      <td>?</td>\n",
              "      <td>NaN</td>\n",
              "      <td>NaN</td>\n",
              "      <td>NaN</td>\n",
              "      <td>NaN</td>\n",
              "      <td>NaN</td>\n",
              "      <td>NaN</td>\n",
              "      <td>NaN</td>\n",
              "      <td>NaN</td>\n",
              "    </tr>\n",
              "    <tr>\n",
              "      <th>856</th>\n",
              "      <td>NaN</td>\n",
              "      <td>NaN</td>\n",
              "      <td>NaN</td>\n",
              "      <td>NaN</td>\n",
              "      <td>NaN</td>\n",
              "      <td>NaN</td>\n",
              "      <td>NaN</td>\n",
              "      <td>NaN</td>\n",
              "      <td>NaN</td>\n",
              "      <td>NaN</td>\n",
              "      <td>NaN</td>\n",
              "      <td>NaN</td>\n",
              "      <td>NaN</td>\n",
              "      <td>NaN</td>\n",
              "      <td>NaN</td>\n",
              "      <td>NaN</td>\n",
              "      <td>NaN</td>\n",
              "      <td>NaN</td>\n",
              "      <td>NaN</td>\n",
              "      <td>NaN</td>\n",
              "      <td>NaN</td>\n",
              "      <td>NaN</td>\n",
              "      <td>NaN</td>\n",
              "      <td>NaN</td>\n",
              "      <td>NaN</td>\n",
              "      <td>NaN</td>\n",
              "      <td>?</td>\n",
              "      <td>?</td>\n",
              "      <td>NaN</td>\n",
              "      <td>NaN</td>\n",
              "      <td>NaN</td>\n",
              "      <td>NaN</td>\n",
              "      <td>NaN</td>\n",
              "      <td>NaN</td>\n",
              "      <td>NaN</td>\n",
              "      <td>NaN</td>\n",
              "    </tr>\n",
              "    <tr>\n",
              "      <th>857</th>\n",
              "      <td>NaN</td>\n",
              "      <td>NaN</td>\n",
              "      <td>NaN</td>\n",
              "      <td>NaN</td>\n",
              "      <td>NaN</td>\n",
              "      <td>NaN</td>\n",
              "      <td>NaN</td>\n",
              "      <td>NaN</td>\n",
              "      <td>NaN</td>\n",
              "      <td>NaN</td>\n",
              "      <td>NaN</td>\n",
              "      <td>NaN</td>\n",
              "      <td>NaN</td>\n",
              "      <td>NaN</td>\n",
              "      <td>NaN</td>\n",
              "      <td>NaN</td>\n",
              "      <td>NaN</td>\n",
              "      <td>NaN</td>\n",
              "      <td>NaN</td>\n",
              "      <td>NaN</td>\n",
              "      <td>NaN</td>\n",
              "      <td>NaN</td>\n",
              "      <td>NaN</td>\n",
              "      <td>NaN</td>\n",
              "      <td>NaN</td>\n",
              "      <td>NaN</td>\n",
              "      <td>?</td>\n",
              "      <td>?</td>\n",
              "      <td>NaN</td>\n",
              "      <td>NaN</td>\n",
              "      <td>NaN</td>\n",
              "      <td>NaN</td>\n",
              "      <td>NaN</td>\n",
              "      <td>NaN</td>\n",
              "      <td>NaN</td>\n",
              "      <td>NaN</td>\n",
              "    </tr>\n",
              "  </tbody>\n",
              "</table>\n",
              "<p>858 rows × 36 columns</p>\n",
              "</div>"
            ],
            "text/plain": [
              "     Age Number of sexual partners  ... Citology Biopsy\n",
              "0    NaN                       NaN  ...      NaN    NaN\n",
              "1    NaN                       NaN  ...      NaN    NaN\n",
              "2    NaN                       NaN  ...      NaN    NaN\n",
              "3    NaN                       NaN  ...      NaN    NaN\n",
              "4    NaN                       NaN  ...      NaN    NaN\n",
              "..   ...                       ...  ...      ...    ...\n",
              "853  NaN                       NaN  ...      NaN    NaN\n",
              "854  NaN                       NaN  ...      NaN    NaN\n",
              "855  NaN                       NaN  ...      NaN    NaN\n",
              "856  NaN                       NaN  ...      NaN    NaN\n",
              "857  NaN                       NaN  ...      NaN    NaN\n",
              "\n",
              "[858 rows x 36 columns]"
            ]
          },
          "metadata": {
            "tags": []
          },
          "execution_count": 7
        }
      ]
    },
    {
      "cell_type": "code",
      "metadata": {
        "colab": {
          "base_uri": "https://localhost:8080/"
        },
        "id": "zzNMmdk_BuyK",
        "outputId": "dd5a65ac-1bbc-4fee-d741-c4ff9b879ed9"
      },
      "source": [
        "risk_df = risk_df.replace(to_replace='?', value= np.nan)\n",
        "'''Counting number of Nana Values'''\n",
        "risk_df.isnull().sum()/858*100"
      ],
      "execution_count": null,
      "outputs": [
        {
          "output_type": "execute_result",
          "data": {
            "text/plain": [
              "Age                                    0.000000\n",
              "Number of sexual partners              3.030303\n",
              "First sexual intercourse               0.815851\n",
              "Num of pregnancies                     6.526807\n",
              "Smokes                                 1.515152\n",
              "Smokes (years)                         1.515152\n",
              "Smokes (packs/year)                    1.515152\n",
              "Hormonal Contraceptives               12.587413\n",
              "Hormonal Contraceptives (years)       12.587413\n",
              "IUD                                   13.636364\n",
              "IUD (years)                           13.636364\n",
              "STDs                                  12.237762\n",
              "STDs (number)                         12.237762\n",
              "STDs:condylomatosis                   12.237762\n",
              "STDs:cervical condylomatosis          12.237762\n",
              "STDs:vaginal condylomatosis           12.237762\n",
              "STDs:vulvo-perineal condylomatosis    12.237762\n",
              "STDs:syphilis                         12.237762\n",
              "STDs:pelvic inflammatory disease      12.237762\n",
              "STDs:genital herpes                   12.237762\n",
              "STDs:molluscum contagiosum            12.237762\n",
              "STDs:AIDS                             12.237762\n",
              "STDs:HIV                              12.237762\n",
              "STDs:Hepatitis B                      12.237762\n",
              "STDs:HPV                              12.237762\n",
              "STDs: Number of diagnosis              0.000000\n",
              "STDs: Time since first diagnosis      91.724942\n",
              "STDs: Time since last diagnosis       91.724942\n",
              "Dx:Cancer                              0.000000\n",
              "Dx:CIN                                 0.000000\n",
              "Dx:HPV                                 0.000000\n",
              "Dx                                     0.000000\n",
              "Hinselmann                             0.000000\n",
              "Schiller                               0.000000\n",
              "Citology                               0.000000\n",
              "Biopsy                                 0.000000\n",
              "dtype: float64"
            ]
          },
          "metadata": {
            "tags": []
          },
          "execution_count": 67
        }
      ]
    },
    {
      "cell_type": "markdown",
      "metadata": {
        "id": "muRIt0xOCICJ"
      },
      "source": [
        "## Data Cleaning:\n",
        "\n",
        "\n",
        "\n",
        "Dropping:\n",
        "\n",
        "two columns, time since first and last diagnosis were dropped as 91% of data was missing\n",
        "\n",
        "Mean:\n",
        "\n",
        "Number of sexual partners, first sexual intercoure, and num of pregnancies will be filled via the mean\n",
        "\n",
        "\n",
        "As there is the same 12% of data missing for several columns, these rows will be droped as it is the same data missing for all \n",
        "\n",
        "\n",
        "\n",
        "\n"
      ]
    },
    {
      "cell_type": "code",
      "metadata": {
        "id": "O2lFhZwBJE9A"
      },
      "source": [
        "#Converting from object to numeric\n",
        "risk_df['Number of sexual partners'] = pd.to_numeric(risk_df['Number of sexual partners'])\n",
        "risk_df['First sexual intercourse'] = pd.to_numeric(risk_df['First sexual intercourse'])\n",
        "risk_df['Num of pregnancies'] = pd.to_numeric(risk_df['Num of pregnancies'])\n",
        "\n"
      ],
      "execution_count": null,
      "outputs": []
    },
    {
      "cell_type": "code",
      "metadata": {
        "id": "DRT5bir5Bxx-"
      },
      "source": [
        "#DROPING TWO 91% EMpty Columns \n",
        "risk_df = risk_df.drop(axis=1, labels=['STDs: Time since first diagnosis','STDs: Time since last diagnosis'])\n"
      ],
      "execution_count": null,
      "outputs": []
    },
    {
      "cell_type": "code",
      "metadata": {
        "id": "eNSxSLXNEwtH"
      },
      "source": [
        ""
      ],
      "execution_count": null,
      "outputs": []
    },
    {
      "cell_type": "code",
      "metadata": {
        "id": "EovLWIaaD0lv"
      },
      "source": [
        "\n",
        "\n",
        "risk_df['Number of sexual partners'] = risk_df['Number of sexual partners'].fillna(np.mean(risk_df['Number of sexual partners']))\n",
        "risk_df['First sexual intercourse'] = risk_df['First sexual intercourse'].fillna(np.mean(risk_df['First sexual intercourse']))\n",
        "risk_df['Num of pregnancies'] = risk_df['Num of pregnancies'].fillna(np.mean(risk_df['Num of pregnancies']))"
      ],
      "execution_count": null,
      "outputs": []
    },
    {
      "cell_type": "code",
      "metadata": {
        "colab": {
          "base_uri": "https://localhost:8080/"
        },
        "id": "PAt6KfPSKxug",
        "outputId": "88d74ffd-9eec-4c85-98b6-2db9298f157d"
      },
      "source": [
        "risk_df.isna().sum()\n"
      ],
      "execution_count": null,
      "outputs": [
        {
          "output_type": "execute_result",
          "data": {
            "text/plain": [
              "Age                                     0\n",
              "Number of sexual partners               0\n",
              "First sexual intercourse                0\n",
              "Num of pregnancies                      0\n",
              "Smokes                                 13\n",
              "Smokes (years)                         13\n",
              "Smokes (packs/year)                    13\n",
              "Hormonal Contraceptives               108\n",
              "Hormonal Contraceptives (years)       108\n",
              "IUD                                   117\n",
              "IUD (years)                           117\n",
              "STDs                                  105\n",
              "STDs (number)                         105\n",
              "STDs:condylomatosis                   105\n",
              "STDs:cervical condylomatosis          105\n",
              "STDs:vaginal condylomatosis           105\n",
              "STDs:vulvo-perineal condylomatosis    105\n",
              "STDs:syphilis                         105\n",
              "STDs:pelvic inflammatory disease      105\n",
              "STDs:genital herpes                   105\n",
              "STDs:molluscum contagiosum            105\n",
              "STDs:AIDS                             105\n",
              "STDs:HIV                              105\n",
              "STDs:Hepatitis B                      105\n",
              "STDs:HPV                              105\n",
              "STDs: Number of diagnosis               0\n",
              "Dx:Cancer                               0\n",
              "Dx:CIN                                  0\n",
              "Dx:HPV                                  0\n",
              "Dx                                      0\n",
              "Hinselmann                              0\n",
              "Schiller                                0\n",
              "Citology                                0\n",
              "Biopsy                                  0\n",
              "dtype: int64"
            ]
          },
          "metadata": {
            "tags": []
          },
          "execution_count": 12
        }
      ]
    },
    {
      "cell_type": "code",
      "metadata": {
        "id": "uHZD7b11M4_L"
      },
      "source": [
        "risk_df_cl = risk_df.dropna()"
      ],
      "execution_count": null,
      "outputs": []
    },
    {
      "cell_type": "code",
      "metadata": {
        "colab": {
          "base_uri": "https://localhost:8080/"
        },
        "id": "r0w9DLzYNG9s",
        "outputId": "b91d1bf4-a793-415a-887f-8bec43475b28"
      },
      "source": [
        "risk_df_cl.info()\n",
        "#after filling or droping all NA variables we have  726 rows to work with"
      ],
      "execution_count": null,
      "outputs": [
        {
          "output_type": "stream",
          "text": [
            "<class 'pandas.core.frame.DataFrame'>\n",
            "Int64Index: 726 entries, 0 to 857\n",
            "Data columns (total 34 columns):\n",
            " #   Column                              Non-Null Count  Dtype  \n",
            "---  ------                              --------------  -----  \n",
            " 0   Age                                 726 non-null    int64  \n",
            " 1   Number of sexual partners           726 non-null    float64\n",
            " 2   First sexual intercourse            726 non-null    float64\n",
            " 3   Num of pregnancies                  726 non-null    float64\n",
            " 4   Smokes                              726 non-null    object \n",
            " 5   Smokes (years)                      726 non-null    object \n",
            " 6   Smokes (packs/year)                 726 non-null    object \n",
            " 7   Hormonal Contraceptives             726 non-null    object \n",
            " 8   Hormonal Contraceptives (years)     726 non-null    object \n",
            " 9   IUD                                 726 non-null    object \n",
            " 10  IUD (years)                         726 non-null    object \n",
            " 11  STDs                                726 non-null    object \n",
            " 12  STDs (number)                       726 non-null    object \n",
            " 13  STDs:condylomatosis                 726 non-null    object \n",
            " 14  STDs:cervical condylomatosis        726 non-null    object \n",
            " 15  STDs:vaginal condylomatosis         726 non-null    object \n",
            " 16  STDs:vulvo-perineal condylomatosis  726 non-null    object \n",
            " 17  STDs:syphilis                       726 non-null    object \n",
            " 18  STDs:pelvic inflammatory disease    726 non-null    object \n",
            " 19  STDs:genital herpes                 726 non-null    object \n",
            " 20  STDs:molluscum contagiosum          726 non-null    object \n",
            " 21  STDs:AIDS                           726 non-null    object \n",
            " 22  STDs:HIV                            726 non-null    object \n",
            " 23  STDs:Hepatitis B                    726 non-null    object \n",
            " 24  STDs:HPV                            726 non-null    object \n",
            " 25  STDs: Number of diagnosis           726 non-null    int64  \n",
            " 26  Dx:Cancer                           726 non-null    int64  \n",
            " 27  Dx:CIN                              726 non-null    int64  \n",
            " 28  Dx:HPV                              726 non-null    int64  \n",
            " 29  Dx                                  726 non-null    int64  \n",
            " 30  Hinselmann                          726 non-null    int64  \n",
            " 31  Schiller                            726 non-null    int64  \n",
            " 32  Citology                            726 non-null    int64  \n",
            " 33  Biopsy                              726 non-null    int64  \n",
            "dtypes: float64(3), int64(10), object(21)\n",
            "memory usage: 198.5+ KB\n"
          ],
          "name": "stdout"
        }
      ]
    },
    {
      "cell_type": "markdown",
      "metadata": {
        "id": "OCIpdPFFNUNC"
      },
      "source": [
        ""
      ]
    },
    {
      "cell_type": "code",
      "metadata": {
        "id": "dxxsSdqQNVOA"
      },
      "source": [
        "li = []\n",
        "df= pd.DataFrame()\n",
        "for x in risk_df_cl:\n",
        "  for y in risk_df_cl[x]:\n",
        "     li.append(float(y))\n",
        "  df[x] = li\n",
        "  li=[]\n",
        "for x in df:\n",
        "  df[x] = df[x].astype(float)"
      ],
      "execution_count": null,
      "outputs": []
    },
    {
      "cell_type": "code",
      "metadata": {
        "colab": {
          "base_uri": "https://localhost:8080/"
        },
        "id": "3YQb1wXNRb-B",
        "outputId": "8de3007c-e992-4ef4-c4bb-80389d11b3af"
      },
      "source": [
        "print(df['Biopsy'].sum(),\n",
        "risk_df['Biopsy'].sum(),)\n",
        "Y = df.Biopsy\n",
        "print(Y.sum())"
      ],
      "execution_count": null,
      "outputs": [
        {
          "output_type": "stream",
          "text": [
            "50.0 55\n",
            "50.0\n"
          ],
          "name": "stdout"
        }
      ]
    },
    {
      "cell_type": "markdown",
      "metadata": {
        "id": "8rEXFwbANVvN"
      },
      "source": [
        "## DATA EXPLORATION"
      ]
    },
    {
      "cell_type": "code",
      "metadata": {
        "colab": {
          "base_uri": "https://localhost:8080/"
        },
        "id": "FA1gIsmXNT6u",
        "outputId": "7d3533fb-8a42-4da0-9521-302e2188de9b"
      },
      "source": [
        "df.corrwith(df['Biopsy']).sort_values(ascending= False)"
      ],
      "execution_count": null,
      "outputs": [
        {
          "output_type": "execute_result",
          "data": {
            "text/plain": [
              "Biopsy                                1.000000\n",
              "Schiller                              0.727927\n",
              "Hinselmann                            0.541249\n",
              "Citology                              0.339589\n",
              "Dx:HPV                                0.181474\n",
              "Dx:Cancer                             0.173702\n",
              "Dx                                    0.159845\n",
              "STDs:genital herpes                   0.136559\n",
              "STDs:HIV                              0.120074\n",
              "STDs                                  0.117926\n",
              "STDs (number)                         0.110973\n",
              "STDs:vulvo-perineal condylomatosis    0.107042\n",
              "STDs:condylomatosis                   0.104077\n",
              "Hormonal Contraceptives (years)       0.103366\n",
              "STDs: Number of diagnosis             0.100613\n",
              "Dx:CIN                                0.095335\n",
              "Smokes (years)                        0.073018\n",
              "IUD                                   0.059111\n",
              "Age                                   0.048656\n",
              "Num of pregnancies                    0.046982\n",
              "Smokes                                0.044055\n",
              "IUD (years)                           0.037056\n",
              "Smokes (packs/year)                   0.029851\n",
              "Hormonal Contraceptives               0.010282\n",
              "First sexual intercourse              0.010227\n",
              "Number of sexual partners            -0.000630\n",
              "STDs:molluscum contagiosum           -0.010100\n",
              "STDs:Hepatitis B                     -0.010100\n",
              "STDs:pelvic inflammatory disease     -0.010100\n",
              "STDs:HPV                             -0.014294\n",
              "STDs:vaginal condylomatosis          -0.020243\n",
              "STDs:syphilis                        -0.039502\n",
              "STDs:cervical condylomatosis               NaN\n",
              "STDs:AIDS                                  NaN\n",
              "dtype: float64"
            ]
          },
          "metadata": {
            "tags": []
          },
          "execution_count": 75
        }
      ]
    },
    {
      "cell_type": "code",
      "metadata": {
        "colab": {
          "base_uri": "https://localhost:8080/"
        },
        "id": "N-7ZKtL7YLnf",
        "outputId": "f1f885cd-6680-415f-bfda-ffeca03286a2"
      },
      "source": [
        "df.corrwith(df.Schiller).sort_values(ascending = False)"
      ],
      "execution_count": null,
      "outputs": [
        {
          "output_type": "execute_result",
          "data": {
            "text/plain": [
              "Schiller                              1.000000\n",
              "Biopsy                                0.727927\n",
              "Hinselmann                            0.650814\n",
              "Citology                              0.374601\n",
              "Dx:HPV                                0.143303\n",
              "STDs (number)                         0.139023\n",
              "STDs: Number of diagnosis             0.138532\n",
              "Dx:Cancer                             0.136170\n",
              "STDs:vulvo-perineal condylomatosis    0.134722\n",
              "STDs:condylomatosis                   0.131100\n",
              "STDs:HIV                              0.125321\n",
              "STDs                                  0.121499\n",
              "Smokes (years)                        0.106178\n",
              "Hormonal Contraceptives (years)       0.097109\n",
              "Num of pregnancies                    0.094200\n",
              "Age                                   0.085657\n",
              "IUD                                   0.079089\n",
              "IUD (years)                           0.070879\n",
              "Smokes                                0.068584\n",
              "Dx                                    0.064554\n",
              "Smokes (packs/year)                   0.020610\n",
              "STDs:syphilis                         0.018965\n",
              "Hormonal Contraceptives              -0.002834\n",
              "STDs:pelvic inflammatory disease     -0.012036\n",
              "STDs:Hepatitis B                     -0.012036\n",
              "STDs:molluscum contagiosum           -0.012036\n",
              "STDs:genital herpes                  -0.012036\n",
              "First sexual intercourse             -0.014046\n",
              "Number of sexual partners            -0.014377\n",
              "STDs:HPV                             -0.017033\n",
              "STDs:vaginal condylomatosis          -0.024121\n",
              "Dx:CIN                               -0.029584\n",
              "STDs:cervical condylomatosis               NaN\n",
              "STDs:AIDS                                  NaN\n",
              "dtype: float64"
            ]
          },
          "metadata": {
            "tags": []
          },
          "execution_count": 76
        }
      ]
    },
    {
      "cell_type": "code",
      "metadata": {
        "id": "2VBTrh5hY56Q",
        "colab": {
          "base_uri": "https://localhost:8080/"
        },
        "outputId": "69da273f-f251-45c9-e316-4c19fa9982f7"
      },
      "source": [
        "df['Biopsy'].unique()"
      ],
      "execution_count": null,
      "outputs": [
        {
          "output_type": "execute_result",
          "data": {
            "text/plain": [
              "array([0., 1.])"
            ]
          },
          "metadata": {
            "tags": []
          },
          "execution_count": 98
        }
      ]
    },
    {
      "cell_type": "code",
      "metadata": {
        "colab": {
          "base_uri": "https://localhost:8080/",
          "height": 35
        },
        "id": "tJvucoBJZWjW",
        "outputId": "bc080162-1c89-4f32-9e69-5358596a2e11"
      },
      "source": [
        "'''sns.pairplot(data = df, hue='Biopsy')'''"
      ],
      "execution_count": null,
      "outputs": [
        {
          "output_type": "execute_result",
          "data": {
            "application/vnd.google.colaboratory.intrinsic+json": {
              "type": "string"
            },
            "text/plain": [
              "\"sns.pairplot(data = df, hue='Biopsy')\""
            ]
          },
          "metadata": {
            "tags": []
          },
          "execution_count": 19
        }
      ]
    },
    {
      "cell_type": "code",
      "metadata": {
        "id": "OOCiE7jRDCvo"
      },
      "source": [
        "df.shape()"
      ],
      "execution_count": null,
      "outputs": []
    },
    {
      "cell_type": "markdown",
      "metadata": {
        "id": "HKJ9lzWSAykp"
      },
      "source": [
        "# Method:\n",
        "\n",
        "Both Random Forrest and Gradient Boost algorithims were used to try and predict cancer cases using medical history and Pap smear tests. The data is unbalances and therefor the oversampling method SMOTE was used to improve predictions. A Dummy Algorithim achieved an accuracy of 93%, making 93% the bare minimum for any prediction method. "
      ]
    },
    {
      "cell_type": "markdown",
      "metadata": {
        "id": "kS1s9VQ4u9gS"
      },
      "source": [
        "#Models"
      ]
    },
    {
      "cell_type": "code",
      "metadata": {
        "id": "_uPnQj8a70Nk"
      },
      "source": [
        "\n",
        "ab = pd.DataFrame()\n",
        "ab['Biospy'] = df['Biopsy'] \n",
        "df = df.drop(columns='Biopsy')\n",
        "li = []\n",
        "for x in df:\n",
        "   li = df[x]\n",
        "   li = preprocessing.normalize([li])\n",
        "   df[x] = li.reshape(-1,1)\n",
        "   li = []\n",
        "df['Biopsy'] = ab[\"Biospy\"]"
      ],
      "execution_count": null,
      "outputs": []
    },
    {
      "cell_type": "code",
      "metadata": {
        "id": "qsWnof589iQM"
      },
      "source": [
        ""
      ],
      "execution_count": null,
      "outputs": []
    },
    {
      "cell_type": "markdown",
      "metadata": {
        "id": "1uCB4jv5vCoK"
      },
      "source": [
        "##DUMMY\n",
        "\n",
        ": A dummy model was used to see how the baseline accuracy compares to just selecting the major class. The use of a dummy model was implemented due to the heavy imbalance in the datasets."
      ]
    },
    {
      "cell_type": "code",
      "metadata": {
        "colab": {
          "base_uri": "https://localhost:8080/"
        },
        "id": "0ULdlenMtS7e",
        "outputId": "3e08ead3-e6fa-4262-c05c-c77a323fd94a"
      },
      "source": [
        "\n",
        "dum = DummyClassifier(strategy = 'most_frequent')\n",
        "dum.fit(x_train,y_train)\n",
        "dum.score(x_test,y_test)\n"
      ],
      "execution_count": null,
      "outputs": [
        {
          "output_type": "execute_result",
          "data": {
            "text/plain": [
              "0.9393382352941176"
            ]
          },
          "metadata": {
            "tags": []
          },
          "execution_count": 23
        }
      ]
    },
    {
      "cell_type": "markdown",
      "metadata": {
        "id": "mV_lBfGnvANt"
      },
      "source": [
        "## RANDOM FORREST"
      ]
    },
    {
      "cell_type": "markdown",
      "metadata": {
        "id": "Q7lc72H2fOj7"
      },
      "source": [
        "Intial random forrest model to see performance with no tunning:"
      ]
    },
    {
      "cell_type": "code",
      "metadata": {
        "colab": {
          "base_uri": "https://localhost:8080/"
        },
        "id": "nQxkqfmHroxY",
        "outputId": "33a1fb3a-0f5f-4f07-85f2-9a69dd2f460a"
      },
      "source": [
        "\n",
        "X = df.drop(axis = 1, labels = ['Biopsy',\n",
        "                                'Schiller',\n",
        "                                'Hinselmann',\n",
        "                                'Citology'] )\n",
        "x_test, x_train, y_test, y_train = train_test_split(X,Y)\n",
        "rfc = RandomForestClassifier()\n",
        "score_train = cross_val_score(rfc,x_train,y_train,cv=5)\n",
        "score_test = cross_val_score(rfc,x_test,y_test,cv=5)\n",
        "print(np.mean(score_train))\n",
        "print(np.mean(score_test))"
      ],
      "execution_count": null,
      "outputs": [
        {
          "output_type": "stream",
          "text": [
            "0.9012012012012012\n",
            "0.93936459395175\n"
          ],
          "name": "stdout"
        }
      ]
    },
    {
      "cell_type": "code",
      "metadata": {
        "colab": {
          "base_uri": "https://localhost:8080/"
        },
        "id": "yC-KV3envOdX",
        "outputId": "8b5da63e-7bc9-48c2-81c2-2f1dbdb85932"
      },
      "source": [
        "rfc_2 = RandomForestClassifier(n_estimators=1000, class_weight='balanced',ccp_alpha= .00005)\n",
        "rfc_2.fit(x_train,y_train)\n",
        "score_train = cross_val_score(rfc_2, x_train,y_train, cv = 5)\n",
        "score_test = cross_val_score(rfc_2, x_test,y_test, cv = 5)\n",
        "print(np.mean(score_train))\n",
        "print(np.mean(score_test))"
      ],
      "execution_count": null,
      "outputs": [
        {
          "output_type": "stream",
          "text": [
            "0.9067567567567567\n",
            "0.935677879714577\n"
          ],
          "name": "stdout"
        }
      ]
    },
    {
      "cell_type": "markdown",
      "metadata": {
        "id": "AVURWBvM5Mgs"
      },
      "source": [
        "## Gradient Boosting "
      ]
    },
    {
      "cell_type": "markdown",
      "metadata": {
        "id": "HQv8qsKjFE4m"
      },
      "source": [
        "### Intial Model"
      ]
    },
    {
      "cell_type": "code",
      "metadata": {
        "colab": {
          "base_uri": "https://localhost:8080/"
        },
        "id": "cb4ayVO81LgK",
        "outputId": "7cce9930-6043-4ec1-fa2d-491253ea2ffa"
      },
      "source": [
        "\n",
        "gbc = GradientBoostingClassifier(n_estimators=1000, learning_rate= .1, ccp_alpha= .005)\n",
        "gbc.fit(x_train,y_train)\n",
        "print(gbc.score(x_train,y_train))\n",
        "print(gbc.score(x_test,y_test))\n",
        "print(gbc.feature_importances_)"
      ],
      "execution_count": null,
      "outputs": [
        {
          "output_type": "stream",
          "text": [
            "0.9065934065934066\n",
            "0.9393382352941176\n",
            "[0.7589469 0.        0.        0.        0.        0.        0.\n",
            " 0.        0.        0.        0.        0.        0.        0.\n",
            " 0.        0.        0.        0.        0.        0.        0.\n",
            " 0.        0.        0.        0.        0.        0.        0.\n",
            " 0.        0.2410531]\n"
          ],
          "name": "stdout"
        }
      ]
    },
    {
      "cell_type": "code",
      "metadata": {
        "id": "4PxtWrKP5Sgb"
      },
      "source": [
        "features = ['STDs: Number of diagnosis',    \n",
        "            'Dx:Cancer',                                           \n",
        "            'Smokes (years)',                         \n",
        "            'Hormonal Contraceptives (years)',      \n",
        "            'Num of pregnancies',                   \n",
        "            'Age',                                \n",
        "            'IUD',]\n",
        "X_1 = df[features]\n",
        "x_train2,x_test2, y_train2,y_test2 = train_test_split(X_1,Y)"
      ],
      "execution_count": null,
      "outputs": []
    },
    {
      "cell_type": "code",
      "metadata": {
        "colab": {
          "base_uri": "https://localhost:8080/"
        },
        "id": "b6YkrUXO5F6I",
        "outputId": "a0ff2804-8263-4734-ec56-bac04baf02de"
      },
      "source": [
        "gbc_2 = GradientBoostingClassifier(n_estimators=3000, min_samples_split= 4, learning_rate= .0001,ccp_alpha= .0001, max_depth=2, subsample=.8)\n",
        "gbc_2.fit(x_train2,y_train2)\n",
        "print(\n",
        "gbc_2.score(x_train2,y_train2),\n",
        "gbc_2.score(x_test2,y_test2))"
      ],
      "execution_count": null,
      "outputs": [
        {
          "output_type": "stream",
          "text": [
            "0.9301470588235294 0.9340659340659341\n"
          ],
          "name": "stdout"
        }
      ]
    },
    {
      "cell_type": "code",
      "metadata": {
        "id": "FPPpvy3R7dt2",
        "colab": {
          "base_uri": "https://localhost:8080/"
        },
        "outputId": "ed70fe36-fa54-4258-ff7f-70642988c8e3"
      },
      "source": [
        "gbc0 = GradientBoostingClassifier(random_state=8)\n",
        "gbc0.fit(x_train2,y_train2)\n",
        "y_pred = gbc0.predict(x_test2)\n",
        "print( confusion_matrix(y_test2,y_pred, normalize='true'))\n",
        "print(classification_report(y_test2, y_pred))"
      ],
      "execution_count": null,
      "outputs": [
        {
          "output_type": "stream",
          "text": [
            "[[0.98235294 0.01764706]\n",
            " [0.91666667 0.08333333]]\n",
            "              precision    recall  f1-score   support\n",
            "\n",
            "         0.0       0.94      0.98      0.96       170\n",
            "         1.0       0.25      0.08      0.12        12\n",
            "\n",
            "    accuracy                           0.92       182\n",
            "   macro avg       0.59      0.53      0.54       182\n",
            "weighted avg       0.89      0.92      0.90       182\n",
            "\n"
          ],
          "name": "stdout"
        }
      ]
    },
    {
      "cell_type": "code",
      "metadata": {
        "id": "9BRWFgPCEMIC"
      },
      "source": [
        "p_test2 = {'max_depth':[2,3,4,5,6,7] }\n",
        "tuning = GridSearchCV(estimator =GradientBoostingClassifier(learning_rate=0.005,n_estimators=100, min_samples_split=2, min_samples_leaf=1, subsample=1,max_features='sqrt', random_state=10), \n",
        "            param_grid = p_test2, scoring='accuracy',n_jobs=4,iid=False, cv=5)\n",
        "tuning.fit(x_train,y_train)\n",
        "tuning.best_params_, tuning.best_score_"
      ],
      "execution_count": null,
      "outputs": []
    },
    {
      "cell_type": "code",
      "metadata": {
        "id": "5E1bvUlfE9Xp"
      },
      "source": [
        "model1 = GradientBoostingClassifier(learning_rate=0.005, n_estimators=100,max_depth=2, min_samples_split=2, min_samples_leaf=1, subsample=1,max_features='sqrt', random_state=10)\n",
        "model1.fit(x_train,y_train)\n",
        "predictors=list(x_train)\n",
        "feat_imp = pd.Series(model1.feature_importances_, predictors).sort_values(ascending=False)\n",
        "feat_imp.plot(kind='bar', title='Importance of Features')\n",
        "plt.ylabel('Feature Importance Score')\n",
        "print('Accuracy of the GBM on test set: {:.3f}'.format(model1.score(x_test, y_test)))\n",
        "pred=model1.predict(x_test)\n",
        "print(classification_report(y_test, pred))"
      ],
      "execution_count": null,
      "outputs": []
    },
    {
      "cell_type": "markdown",
      "metadata": {
        "id": "WV8bmguF2qx-"
      },
      "source": [
        "### Including Pap smears and Schiller (Citology test)\n"
      ]
    },
    {
      "cell_type": "code",
      "metadata": {
        "id": "fjSlg9L62prO"
      },
      "source": [
        "features_1 = ['STDs: Number of diagnosis',    \n",
        "            'Dx:Cancer',                                           \n",
        "            'Smokes (years)',                         \n",
        "            'Hormonal Contraceptives (years)',      \n",
        "            'Num of pregnancies',                   \n",
        "            'Age',                                \n",
        "            'IUD',\n",
        "            'Citology']\n",
        "x_3 = df[features_1]\n",
        "x_train3, x_test3,y_train3,y_test3 = train_test_split(x_3,Y)\n",
        "oversample = SMOTE()\n",
        "x_train_os, y_train_os = oversample.fit_resample(x_train3,y_train3)\n",
        "print(Counter(y_train_os))\n",
        "from imblearn.under_sampling import RandomUnderSampler\n",
        "\n",
        "\n",
        "gbc1 = GradientBoostingClassifier(learning_rate=0.005, n_estimators=100,max_depth=2, min_samples_split=2, min_samples_leaf=1, subsample=1,max_features='sqrt', random_state=10)\n",
        "gbc1.fit(x_train_os,y_train_os)\n",
        "y_pred = gbc1.predict(x_test3)\n",
        "print( confusion_matrix(y_test3,y_pred, normalize='true'))\n",
        "print(classification_report(y_test3, y_pred))"
      ],
      "execution_count": null,
      "outputs": []
    },
    {
      "cell_type": "code",
      "metadata": {
        "colab": {
          "base_uri": "https://localhost:8080/"
        },
        "id": "CkKqd9ut_XNM",
        "outputId": "fb414664-01ec-4520-811e-9ddf9a2df36f"
      },
      "source": [
        "p_test ={'learning_rate':[0.2,0.15,0.1, 0.25,], 'n_estimators':[50,100,250,]}\n",
        "tuning = GridSearchCV(estimator=GradientBoostingClassifier(max_depth=5, min_samples_split=2, min_samples_leaf=1, subsample=.8,max_features='sqrt', random_state=10), \n",
        "            param_grid = p_test, scoring='accuracy',n_jobs=4,iid=False, cv=5)\n",
        "tuning.fit(x_train_os,y_train_os)\n",
        "tuning.best_estimator_, tuning.best_score_,tuning.best_params_\n"
      ],
      "execution_count": null,
      "outputs": [
        {
          "output_type": "stream",
          "text": [
            "/usr/local/lib/python3.7/dist-packages/sklearn/model_selection/_search.py:823: FutureWarning: The parameter 'iid' is deprecated in 0.22 and will be removed in 0.24.\n",
            "  \"removed in 0.24.\", FutureWarning\n"
          ],
          "name": "stderr"
        },
        {
          "output_type": "execute_result",
          "data": {
            "text/plain": [
              "(GradientBoostingClassifier(ccp_alpha=0.0, criterion='friedman_mse', init=None,\n",
              "                            learning_rate=0.2, loss='deviance', max_depth=5,\n",
              "                            max_features='sqrt', max_leaf_nodes=None,\n",
              "                            min_impurity_decrease=0.0, min_impurity_split=None,\n",
              "                            min_samples_leaf=1, min_samples_split=2,\n",
              "                            min_weight_fraction_leaf=0.0, n_estimators=100,\n",
              "                            n_iter_no_change=None, presort='deprecated',\n",
              "                            random_state=10, subsample=0.8, tol=0.0001,\n",
              "                            validation_fraction=0.1, verbose=0,\n",
              "                            warm_start=False),\n",
              " 0.9536701946056674,\n",
              " {'learning_rate': 0.2, 'n_estimators': 100})"
            ]
          },
          "metadata": {
            "tags": []
          },
          "execution_count": 254
        }
      ]
    },
    {
      "cell_type": "code",
      "metadata": {
        "colab": {
          "base_uri": "https://localhost:8080/"
        },
        "id": "LIXIMU0hWyb_",
        "outputId": "fcb2e6e5-1dd7-49cb-f49a-7b618dc7bb41"
      },
      "source": [
        "gbc1 = GradientBoostingClassifier(learning_rate=0.2, n_estimators=100, max_depth=2,)\n",
        "gbc1.fit(x_train_os,y_train_os)\n",
        "y_pred = gbc1.predict(x_test3)\n",
        "print(classification_report(y_test3,y_pred))"
      ],
      "execution_count": null,
      "outputs": [
        {
          "output_type": "stream",
          "text": [
            "              precision    recall  f1-score   support\n",
            "\n",
            "         0.0       0.92      0.92      0.92       169\n",
            "         1.0       0.00      0.00      0.00        13\n",
            "\n",
            "    accuracy                           0.85       182\n",
            "   macro avg       0.46      0.46      0.46       182\n",
            "weighted avg       0.86      0.85      0.85       182\n",
            "\n"
          ],
          "name": "stdout"
        }
      ]
    },
    {
      "cell_type": "code",
      "metadata": {
        "colab": {
          "base_uri": "https://localhost:8080/"
        },
        "id": "iVhqM8ztAMVR",
        "outputId": "b8888c29-f15e-450a-c966-4f3c97f7c3c8"
      },
      "source": [
        "p_test2 = {'max_depth':[2,3,4,5,6,7,1] }\n",
        "tuning = GridSearchCV(estimator =GradientBoostingClassifier( learning_rate=0.15,n_estimators=100, min_samples_split=2, min_samples_leaf=1, subsample=1,max_features='sqrt', random_state=10), \n",
        "            param_grid = p_test2, scoring='accuracy',n_jobs=4,iid=False, cv=5)\n",
        "tuning.fit(x_train_os,y_train_os)\n",
        "tuning.best_params_, tuning.best_score_"
      ],
      "execution_count": null,
      "outputs": [
        {
          "output_type": "stream",
          "text": [
            "/usr/local/lib/python3.7/dist-packages/sklearn/model_selection/_search.py:823: FutureWarning: The parameter 'iid' is deprecated in 0.22 and will be removed in 0.24.\n",
            "  \"removed in 0.24.\", FutureWarning\n"
          ],
          "name": "stderr"
        },
        {
          "output_type": "execute_result",
          "data": {
            "text/plain": [
              "({'max_depth': 6}, 0.9595864019899528)"
            ]
          },
          "metadata": {
            "tags": []
          },
          "execution_count": 256
        }
      ]
    },
    {
      "cell_type": "code",
      "metadata": {
        "id": "iEo-vWuQCQlB"
      },
      "source": [
        "p_test3 = {'subsample':[.1, .2,.3,.4,.5,.6,.7,.8,.9,.10] }\n",
        "tuning = GridSearchCV(estimator =GradientBoostingClassifier(learning_rate=0.15,n_estimators=100, min_samples_split=2, min_samples_leaf=1,max_features='sqrt',max_depth=2, random_state=10), \n",
        "            param_grid = p_test3, scoring='accuracy',n_jobs=4,iid=False, cv=5)\n",
        "tuning.fit(x_train_os,y_train_os)\n",
        "tuning.best_params_, tuning.best_score_\n"
      ],
      "execution_count": null,
      "outputs": []
    },
    {
      "cell_type": "code",
      "metadata": {
        "id": "JcvVp-ZfZe99"
      },
      "source": [
        ""
      ],
      "execution_count": null,
      "outputs": []
    },
    {
      "cell_type": "code",
      "metadata": {
        "id": "JkNIcnY8Zmgw"
      },
      "source": [
        "# Initail Model\n",
        "x_train4, x_test4,y_train4,y_test4 = train_test_split(pca_df,Y)\n",
        "oversample = SMOTE()\n",
        "x_train_os, y_train_os = oversample.fit_resample(x_train4,y_train4)\n",
        "print(Counter(y_train_os))\n",
        "gbc1 = GradientBoostingClassifier(learning_rate=0.005, n_estimators=100,max_depth=2, min_samples_split=2, min_samples_leaf=1, subsample=1,max_features='sqrt', random_state=10)\n",
        "gbc1.fit(x_train_os,y_train_os)\n",
        "y_pred = gbc1.predict(x_test4)\n",
        "print( confusion_matrix(y_test4,y_pred, normalize='true'))\n",
        "print(classification_report(y_test4, y_pred))"
      ],
      "execution_count": null,
      "outputs": []
    },
    {
      "cell_type": "markdown",
      "metadata": {
        "id": "hkB1g5u7dvoi"
      },
      "source": [
        "### Tunning Model"
      ]
    },
    {
      "cell_type": "code",
      "metadata": {
        "id": "7aa3sSATdTu-"
      },
      "source": [
        "p_test ={'learning_rate':[0.2,0.15,0.1, 0.25,], 'n_estimators':[50,100,250,500, 1000, 2000]}\n",
        "tuning = GridSearchCV(estimator=GradientBoostingClassifier(max_depth=2, min_samples_split=2, min_samples_leaf=1, subsample=.95,max_features='sqrt', random_state=10), \n",
        "            param_grid = p_test, scoring='accuracy',n_jobs=4,iid=False, cv=5)\n",
        "tuning.fit(x_train_os,y_train_os)\n",
        "tuning.best_estimator_, tuning.best_score_,tuning.best_params_"
      ],
      "execution_count": null,
      "outputs": []
    },
    {
      "cell_type": "code",
      "metadata": {
        "id": "m-Q7lRXdd6z8"
      },
      "source": [
        "gbc1 = GradientBoostingClassifier(learning_rate=0.2, n_estimators=1000,max_depth=2, min_samples_split=2, min_samples_leaf=1, subsample=1,max_features='sqrt', random_state=10)\n",
        "gbc1.fit(x_train_os,y_train_os)\n",
        "y_pred = gbc1.predict(x_test4)\n",
        "print( confusion_matrix(y_test4,y_pred, normalize='true'))\n",
        "print(classification_report(y_test4, y_pred))"
      ],
      "execution_count": null,
      "outputs": []
    },
    {
      "cell_type": "code",
      "metadata": {
        "id": "9IxiF9MEehuI"
      },
      "source": [
        "p_test2 = {'max_depth':[2,3,4,5,6,7,1] }\n",
        "tuning = GridSearchCV(estimator =GradientBoostingClassifier( learning_rate=0.15,n_estimators=100, min_samples_split=2, min_samples_leaf=1, subsample=1,max_features='sqrt', random_state=10), \n",
        "            param_grid = p_test2, scoring='accuracy',n_jobs=4,iid=False, cv=5)\n",
        "tuning.fit(x_train_os,y_train_os)\n",
        "tuning.best_params_, tuning.best_score_"
      ],
      "execution_count": null,
      "outputs": []
    },
    {
      "cell_type": "markdown",
      "metadata": {
        "id": "BOJrCIhTfzHM"
      },
      "source": [
        "### All Features  (Excluding Hinselmann as it is majorly invasive)"
      ]
    },
    {
      "cell_type": "code",
      "metadata": {
        "colab": {
          "base_uri": "https://localhost:8080/"
        },
        "id": "Yh7esDGkfvIb",
        "outputId": "b49be37c-de7b-4048-db88-69430629f3ee"
      },
      "source": [
        "# Initial Model \n",
        "feature = df.drop(axis= 1, columns=['Biopsy', 'Hinselmann']  )\n",
        "x_train5, x_test5,y_train5,y_test5 = train_test_split(feature,Y)\n",
        "oversample = SMOTE()\n",
        "x_train_os, y_train_os = oversample.fit_resample(x_train5,y_train5)\n",
        "print(Counter(y_train_os))\n",
        "gbc1 = GradientBoostingClassifier(learning_rate=0.005, n_estimators=100,max_depth=2, min_samples_split=2, min_samples_leaf=1, subsample=1, random_state=10)\n",
        "gbc1.fit(x_train_os,y_train_os)\n",
        "y_pred = gbc1.predict(x_test5)\n",
        "print( confusion_matrix(y_test5,y_pred, normalize='true'))\n",
        "print(classification_report(y_test5, y_pred))"
      ],
      "execution_count": null,
      "outputs": [
        {
          "output_type": "stream",
          "text": [
            "Counter({0.0: 501, 1.0: 501})\n",
            "[[0.95428571 0.04571429]\n",
            " [0.         1.        ]]\n",
            "              precision    recall  f1-score   support\n",
            "\n",
            "         0.0       1.00      0.95      0.98       175\n",
            "         1.0       0.47      1.00      0.64         7\n",
            "\n",
            "    accuracy                           0.96       182\n",
            "   macro avg       0.73      0.98      0.81       182\n",
            "weighted avg       0.98      0.96      0.96       182\n",
            "\n"
          ],
          "name": "stdout"
        },
        {
          "output_type": "stream",
          "text": [
            "/usr/local/lib/python3.7/dist-packages/sklearn/utils/deprecation.py:87: FutureWarning: Function safe_indexing is deprecated; safe_indexing is deprecated in version 0.22 and will be removed in version 0.24.\n",
            "  warnings.warn(msg, category=FutureWarning)\n"
          ],
          "name": "stderr"
        }
      ]
    },
    {
      "cell_type": "markdown",
      "metadata": {
        "id": "L5JKjz2s0ONU"
      },
      "source": [
        "A recall of 1 indicatates there were no missed cases, however  a precision of 0.47  means that 53% of cases are a false positive"
      ]
    },
    {
      "cell_type": "code",
      "metadata": {
        "colab": {
          "base_uri": "https://localhost:8080/"
        },
        "id": "nWW4Zl1QgT5p",
        "outputId": "d1c4a9d3-dbbe-4f7b-f916-30c4a5214df4"
      },
      "source": [
        "p_test ={'learning_rate':[1E-20,1E-10,1E-5,1E-1], 'n_estimators':[50,100,250,500, 1000, 2000]}\n",
        "tuning = GridSearchCV(estimator=GradientBoostingClassifier(max_depth=3, min_samples_split=5, min_samples_leaf=1, subsample=1, random_state=10), \n",
        "            param_grid = p_test, scoring='accuracy',n_jobs=4,iid=False, cv=5)\n",
        "tuning.fit(x_train_os,y_train_os)\n",
        "tuning.best_estimator_, tuning.best_score_,tuning.best_params_"
      ],
      "execution_count": null,
      "outputs": [
        {
          "output_type": "stream",
          "text": [
            "/usr/local/lib/python3.7/dist-packages/sklearn/model_selection/_search.py:823: FutureWarning: The parameter 'iid' is deprecated in 0.22 and will be removed in 0.24.\n",
            "  \"removed in 0.24.\", FutureWarning\n"
          ],
          "name": "stderr"
        },
        {
          "output_type": "execute_result",
          "data": {
            "text/plain": [
              "(GradientBoostingClassifier(ccp_alpha=0.0, criterion='friedman_mse', init=None,\n",
              "                            learning_rate=0.1, loss='deviance', max_depth=3,\n",
              "                            max_features=None, max_leaf_nodes=None,\n",
              "                            min_impurity_decrease=0.0, min_impurity_split=None,\n",
              "                            min_samples_leaf=1, min_samples_split=5,\n",
              "                            min_weight_fraction_leaf=0.0, n_estimators=1000,\n",
              "                            n_iter_no_change=None, presort='deprecated',\n",
              "                            random_state=10, subsample=1, tol=0.0001,\n",
              "                            validation_fraction=0.1, verbose=0,\n",
              "                            warm_start=False),\n",
              " 0.9790398009950249,\n",
              " {'learning_rate': 0.1, 'n_estimators': 1000})"
            ]
          },
          "metadata": {
            "tags": []
          },
          "execution_count": 272
        }
      ]
    },
    {
      "cell_type": "markdown",
      "metadata": {
        "id": "m-4faWgSuIYP"
      },
      "source": [
        "BEST MODEL BELOW "
      ]
    },
    {
      "cell_type": "code",
      "metadata": {
        "id": "7jUw0FkEuIHI"
      },
      "source": [
        ""
      ],
      "execution_count": null,
      "outputs": []
    },
    {
      "cell_type": "code",
      "metadata": {
        "colab": {
          "base_uri": "https://localhost:8080/"
        },
        "id": "czMm8Wo6gsEb",
        "outputId": "310ef074-029f-4b8a-c1c1-7ddd1259fa70"
      },
      "source": [
        "gbc1 = GradientBoostingClassifier(learning_rate=.01 , n_estimators=1000,max_depth=3, min_samples_split=5, min_samples_leaf=1,subsample=1, random_state=10 )\n",
        "gbc1.fit(x_train_os,y_train_os)\n",
        "print(gbc1.score(x_train_os,y_train_os))\n",
        "y_pred = gbc1.predict(x_test5)\n",
        "print( confusion_matrix(y_test5,y_pred, normalize='true'))\n",
        "print(classification_report(y_test5, y_pred))\n"
      ],
      "execution_count": null,
      "outputs": [
        {
          "output_type": "stream",
          "text": [
            "0.9960079840319361\n",
            "[[0.96571429 0.03428571]\n",
            " [0.         1.        ]]\n",
            "              precision    recall  f1-score   support\n",
            "\n",
            "         0.0       1.00      0.97      0.98       175\n",
            "         1.0       0.54      1.00      0.70         7\n",
            "\n",
            "    accuracy                           0.97       182\n",
            "   macro avg       0.77      0.98      0.84       182\n",
            "weighted avg       0.98      0.97      0.97       182\n",
            "\n"
          ],
          "name": "stdout"
        }
      ]
    },
    {
      "cell_type": "code",
      "metadata": {
        "colab": {
          "base_uri": "https://localhost:8080/"
        },
        "id": "9D7Ue5h_2Mgc",
        "outputId": "aead4d96-6404-4849-9cdf-8a50c4b85e5e"
      },
      "source": [
        "gbc1 = GradientBoostingClassifier(learning_rate=.01 , n_estimators=1000,max_depth=3, min_samples_split=6, min_samples_leaf=1,subsample=.8, random_state=10 )\n",
        "gbc1.fit(x_train_os,y_train_os)\n",
        "print(gbc1.score(x_train_os,y_train_os))\n",
        "y_pred = gbc1.predict(x_test5)\n",
        "print( confusion_matrix(y_test5,y_pred, normalize='true'))\n",
        "print(classification_report(y_test5, y_pred))"
      ],
      "execution_count": null,
      "outputs": [
        {
          "output_type": "stream",
          "text": [
            "0.9970059880239521\n",
            "[[0.97142857 0.02857143]\n",
            " [0.         1.        ]]\n",
            "              precision    recall  f1-score   support\n",
            "\n",
            "         0.0       1.00      0.97      0.99       175\n",
            "         1.0       0.58      1.00      0.74         7\n",
            "\n",
            "    accuracy                           0.97       182\n",
            "   macro avg       0.79      0.99      0.86       182\n",
            "weighted avg       0.98      0.97      0.98       182\n",
            "\n"
          ],
          "name": "stdout"
        }
      ]
    },
    {
      "cell_type": "markdown",
      "metadata": {
        "id": "9LcyJA-EE9Zn"
      },
      "source": [
        "###FINAL MODEL"
      ]
    },
    {
      "cell_type": "code",
      "metadata": {
        "colab": {
          "base_uri": "https://localhost:8080/"
        },
        "id": "ZpWx9dG62Y0D",
        "outputId": "cbd82302-b76a-49af-bf74-0e9ca283907a"
      },
      "source": [
        "gbc1 = GradientBoostingClassifier(learning_rate=.01 , n_estimators=1000,max_depth=2, min_samples_split=6, min_samples_leaf=1,subsample=.8, random_state=10 )\n",
        "gbc1.fit(x_train_os,y_train_os)\n",
        "print(gbc1.score(x_train_os,y_train_os))\n",
        "y_pred = gbc1.predict(x_test5)\n",
        "print( confusion_matrix(y_test5,y_pred, normalize='true'))\n",
        "print(classification_report(y_test5, y_pred))"
      ],
      "execution_count": null,
      "outputs": [
        {
          "output_type": "stream",
          "text": [
            "0.9860279441117764\n",
            "[[0.97142857 0.02857143]\n",
            " [0.         1.        ]]\n",
            "              precision    recall  f1-score   support\n",
            "\n",
            "         0.0       1.00      0.97      0.99       175\n",
            "         1.0       0.58      1.00      0.74         7\n",
            "\n",
            "    accuracy                           0.97       182\n",
            "   macro avg       0.79      0.99      0.86       182\n",
            "weighted avg       0.98      0.97      0.98       182\n",
            "\n"
          ],
          "name": "stdout"
        }
      ]
    },
    {
      "cell_type": "markdown",
      "metadata": {
        "id": "--FpAZGKAh1s"
      },
      "source": [
        "# Results:\n",
        "\n",
        "Using  the Gradient Boosting algorithim proided by Sklearn, and then tunning the parameters a prediction accuray of 97% was achieved. \n",
        "\n",
        "The algorithim did not miss any cancer cases, resulting in 0 false negatives.  The algorithim did  have false postivies. However, the algorithim had a false positive rate of 2.9%. A pap smear alone has a false postive rate of 10%. \n",
        "\n",
        "The algorithm reduced false positives by about 7%, significantly reducing the amount of unnesarcy colonoscophys. In addition to avoding surgery patiends are save time, money and worry."
      ]
    },
    {
      "cell_type": "markdown",
      "metadata": {
        "id": "rLzfaf8OC0mU"
      },
      "source": [
        "# Recomendations\n",
        "\n",
        "1) The data set was fairly limited with only a little more than 500 cases, a more extensive study with more data is required\n",
        "\n",
        "2) Of the 500 cases only about 10% had cervical cancer. With only 50 positive cases, oversampleing can lead to the algorithm overfiting this data, even with splitting the data into a train and test set. \n",
        "\n",
        "3) Doctors should include basic medical background questions in their anaylsis of pap smear test. Using this algorithim they can get a more accurate assesment of their patients risk for cervical cancer"
      ]
    }
  ]
}